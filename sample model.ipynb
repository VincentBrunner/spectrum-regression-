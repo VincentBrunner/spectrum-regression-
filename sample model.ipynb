{
 "cells": [
  {
   "cell_type": "markdown",
   "id": "78fd2e14",
   "metadata": {},
   "source": [
    "# Sample model"
   ]
  },
  {
   "cell_type": "markdown",
   "id": "5a04f5e2",
   "metadata": {},
   "source": [
    "The model files arent sorted and properly commented yet so here just quick a sample code of the last model I tested:"
   ]
  },
  {
   "cell_type": "code",
   "execution_count": 1,
   "id": "0c0c3541",
   "metadata": {},
   "outputs": [],
   "source": [
    "from tensorflow.keras.layers import InputLayer, Dense, LeakyReLU, BatchNormalization\n",
    "from tensorflow.keras.models import Sequential\n",
    "from tensorflow.keras.callbacks import EarlyStopping\n",
    "from tensorflow.keras.optimizers import Adam\n",
    "from sklearn.model_selection import train_test_split\n",
    "import pandas as pd\n",
    "import numpy as np\n",
    "from tensorflow.keras.losses import MeanAbsolutePercentageError"
   ]
  },
  {
   "cell_type": "markdown",
   "id": "8eb06518",
   "metadata": {},
   "source": [
    "## base functions:"
   ]
  },
  {
   "cell_type": "code",
   "execution_count": 2,
   "id": "6e847772",
   "metadata": {},
   "outputs": [],
   "source": [
    "def get_data(filename):\n",
    "    dataset = pd.read_parquet(filename)\n",
    "\n",
    "    # features = dataset.iloc[:,0]\n",
    "    features = np.stack(dataset['spectrum'])\n",
    "    print(features)\n",
    "\n",
    "    labels = dataset.iloc[:, 1]\n",
    "\n",
    "    x_train, x_test, y_train, y_test = train_test_split(features, labels, test_size=0.30, random_state=43)\n",
    "\n",
    "    # get input shape\n",
    "    input_shape = x_train[5].shape\n",
    "    print(input_shape)\n",
    "    return x_train, x_test, y_train, y_test, input_shape"
   ]
  },
  {
   "cell_type": "code",
   "execution_count": 3,
   "id": "d405e48c",
   "metadata": {},
   "outputs": [],
   "source": [
    "def fit_evaluate(model, epochs, batch_size, x_train, x_test, y_train, y_test):\n",
    "\n",
    "    stop = EarlyStopping(monitor='val_loss', mode='min', verbose=1, patience=4)\n",
    "    model.fit(x_train, y_train, epochs=epochs, batch_size=batch_size, verbose=1, validation_split=0.2, callbacks=[stop])\n",
    "\n",
    "    val_mse, val_mae = model.evaluate(x_test, y_test, verbose=0)\n",
    "    return val_mse, val_mae, model"
   ]
  },
  {
   "cell_type": "code",
   "execution_count": 4,
   "id": "049eccb4",
   "metadata": {},
   "outputs": [],
   "source": [
    "def run_model(model_number, learning_rate, epochs, batch_size, loss_function, metrics):\n",
    "    x_train, x_test, y_train, y_test, input_shape = get_data(\"spectrum_data_100k_normalized_cut.parquet\")\n",
    "    \n",
    "    model_selection = Models(model_number)\n",
    "    model = model_selection.build_model(input_shape, loss_function, metrics, learning_rate)\n",
    "    print(model.summary())\n",
    "\n",
    "    val_mse, val_mae, model = fit_evaluate(model, epochs, batch_size, x_train, x_test, y_train, y_test)\n",
    "\n",
    "    print(f\"Mean squared error = {val_mse}, mean absolute error = {val_mae}\")\n",
    "    \n",
    "    return model, val_mse, val_mae"
   ]
  },
  {
   "cell_type": "markdown",
   "id": "deb34165",
   "metadata": {},
   "source": [
    "clipout of the class containing all the models:"
   ]
  },
  {
   "cell_type": "code",
   "execution_count": 5,
   "id": "2354cc17",
   "metadata": {},
   "outputs": [],
   "source": [
    "class Models:\n",
    "    def __init__(self, model):\n",
    "        self.model = model\n",
    "    \n",
    "    def build_model(self, input_shape, loss_function, metrics, learning_rate):\n",
    "        if self.model == 1:\n",
    "            return self.model_one(input_shape, loss_function, metrics, learning_rate)\n",
    "        \n",
    "        # here the if statement continued\n",
    "        \n",
    "    def model_one(self, input_shape, loss_function, metrics, learning_rate):\n",
    "        model = Sequential()\n",
    "\n",
    "        model.add(InputLayer(input_shape=input_shape))\n",
    "\n",
    "        model.add(Dense(2460, activation=LeakyReLU(alpha=0.1)))\n",
    "\n",
    "        model.add(Dense(4920, activation=LeakyReLU(alpha=0.1)))\n",
    "\n",
    "        model.add(Dense(6560, activation=LeakyReLU(alpha=0.1)))\n",
    "\n",
    "        model.add(Dense(4920, activation=LeakyReLU(alpha=0.1)))\n",
    "\n",
    "        model.add(Dense(1640, activation=LeakyReLU(alpha=0.1)))\n",
    "\n",
    "        model.add(Dense(1640, activation=LeakyReLU(alpha=0.1)))\n",
    "\n",
    "        model.add(Dense(1))\n",
    "\n",
    "        model.compile(loss=loss_function, metrics=metrics, optimizer=Adam(learning_rate=learning_rate))\n",
    "        return model\n",
    "    \n",
    "    # here the model functions continued"
   ]
  },
  {
   "cell_type": "markdown",
   "id": "14a3e3d8",
   "metadata": {},
   "source": [
    "## example of usage:"
   ]
  },
  {
   "cell_type": "code",
   "execution_count": 6,
   "id": "495a4c94",
   "metadata": {},
   "outputs": [],
   "source": [
    "learning_rate = 0.00005\n",
    "loss_function = \"mse\"\n",
    "metrics = [MeanAbsolutePercentageError()]\n",
    "epochs = 1000 # due to early stopping\n",
    "batch_size = 4500"
   ]
  },
  {
   "cell_type": "raw",
   "id": "e87ea385",
   "metadata": {},
   "source": [
    "model, val_mse, val_mae = run_model(1, learning_rate, epochs, batch_size, loss_function, metrics)\n",
    "model.save(\"model.h5\")"
   ]
  }
 ],
 "metadata": {
  "kernelspec": {
   "display_name": "Python 3 (ipykernel)",
   "language": "python",
   "name": "python3"
  },
  "language_info": {
   "codemirror_mode": {
    "name": "ipython",
    "version": 3
   },
   "file_extension": ".py",
   "mimetype": "text/x-python",
   "name": "python",
   "nbconvert_exporter": "python",
   "pygments_lexer": "ipython3",
   "version": "3.9.7"
  }
 },
 "nbformat": 4,
 "nbformat_minor": 5
}
