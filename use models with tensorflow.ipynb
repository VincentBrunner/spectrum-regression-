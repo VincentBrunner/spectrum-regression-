{
 "cells": [
  {
   "cell_type": "markdown",
   "id": "22de0c0a",
   "metadata": {},
   "source": [
    "## a sample code how to use the saved h5 model with tensorflow:\n",
    "Steps:\n",
    "* load model\n",
    "* load sample data/generate it \n",
    "* normalise it in the same way the training data was normalised\n",
    "* use tensorflows .predict() method to make a prediction with the loaded model"
   ]
  },
  {
   "cell_type": "markdown",
   "id": "0e2635b7",
   "metadata": {},
   "source": [
    "packages used for model:"
   ]
  },
  {
   "cell_type": "code",
   "execution_count": 2,
   "id": "ce79a27d",
   "metadata": {},
   "outputs": [],
   "source": [
    "from tensorflow.keras.models import load_model\n",
    "import numpy as np"
   ]
  },
  {
   "cell_type": "markdown",
   "id": "e86a0ce8",
   "metadata": {},
   "source": [
    "packages used to normalize the input the same way like the training data was normalized:"
   ]
  },
  {
   "cell_type": "raw",
   "id": "dce7048f",
   "metadata": {},
   "source": [
    "from scipy.signal import butter, lfilter"
   ]
  },
  {
   "cell_type": "markdown",
   "id": "92cdb971",
   "metadata": {},
   "source": [
    "normalisation functions:"
   ]
  },
  {
   "cell_type": "code",
   "execution_count": 6,
   "id": "f9d31aab",
   "metadata": {},
   "outputs": [],
   "source": [
    "def model_i60_getramp(rlen):\n",
    "    wlen = 1024  # signal points\n",
    "    start = 50  # start current pulse\n",
    "    stop = rlen + start  # stop current pulse\n",
    "    slp = 0.5  # ramp gradient/slope\n",
    "    amp = 1000  # region of counts\n",
    "\n",
    "    x = np.zeros(wlen)\n",
    "\n",
    "    i = 1\n",
    "    for n in range(start, stop):  # current ramp generation\n",
    "        x[n] = amp + i * slp\n",
    "        i = i + 1\n",
    "\n",
    "    return x\n",
    "\n",
    "def butter_lowpass(highcut, fs, order=5):\n",
    "    nyq = 0.5 * fs\n",
    "    high = highcut / nyq\n",
    "    b, a = butter(order, high, btype='low', analog=False)\n",
    "    return b, a\n",
    "\n",
    "def butter_lowpass_filter(data, highcut, fs, order=5, rl=0):\n",
    "    b, a = butter_lowpass(highcut, fs, order=order)\n",
    "    y = lfilter(b, a, data)\n",
    "    y = np.roll(y, rl)\n",
    "    return y\n",
    "\n",
    "def normalize(spectrum):\n",
    "    fs = 1e6\n",
    "    highcut = 3e4\n",
    "    xn = butter_lowpass_filter(spectrum, highcut, fs, order=3, rl=-10)\n",
    "    xmod = xn/model_i60_getramp(900)\n",
    "    return xmod"
   ]
  },
  {
   "cell_type": "markdown",
   "id": "a1c94ff7",
   "metadata": {},
   "source": [
    "load model:"
   ]
  },
  {
   "cell_type": "code",
   "execution_count": 7,
   "id": "2e24b494",
   "metadata": {},
   "outputs": [],
   "source": [
    "model = load_model(\"model_17.h5\", compile=False)"
   ]
  },
  {
   "cell_type": "markdown",
   "id": "03a42d6b",
   "metadata": {},
   "source": [
    "load + normalize data:"
   ]
  },
  {
   "cell_type": "raw",
   "id": "f4d64d19",
   "metadata": {},
   "source": [
    "data = #however you want to access the spectrum you want to find its concentration\n",
    "normalized_data = normalize(data)"
   ]
  },
  {
   "cell_type": "markdown",
   "id": "b84b0924",
   "metadata": {},
   "source": [
    "make prediction:"
   ]
  },
  {
   "cell_type": "raw",
   "id": "62c2daea",
   "metadata": {},
   "source": [
    "prediction = model.predict(normalized_data)[0][0] #--> slicing due to nested list output\n",
    "print(prediction)"
   ]
  }
 ],
 "metadata": {
  "kernelspec": {
   "display_name": "Python 3 (ipykernel)",
   "language": "python",
   "name": "python3"
  },
  "language_info": {
   "codemirror_mode": {
    "name": "ipython",
    "version": 3
   },
   "file_extension": ".py",
   "mimetype": "text/x-python",
   "name": "python",
   "nbconvert_exporter": "python",
   "pygments_lexer": "ipython3",
   "version": "3.9.7"
  }
 },
 "nbformat": 4,
 "nbformat_minor": 5
}
