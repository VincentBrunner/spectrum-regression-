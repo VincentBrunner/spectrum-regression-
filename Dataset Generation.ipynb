{
 "cells": [
  {
   "cell_type": "markdown",
   "id": "14094069",
   "metadata": {},
   "source": [
    "# Dataset Generation"
   ]
  },
  {
   "cell_type": "markdown",
   "id": "f406f8d0",
   "metadata": {},
   "source": [
    "using the previously written DataGenModel to create a dataset with spectrums as features and the concentration in ppm as lables"
   ]
  },
  {
   "cell_type": "markdown",
   "id": "dd2f2674",
   "metadata": {},
   "source": [
    "### using the following modules:"
   ]
  },
  {
   "cell_type": "code",
   "execution_count": null,
   "id": "849442b0",
   "metadata": {},
   "outputs": [],
   "source": [
    "import pandas as pd\n",
    "from data_generation_model import DataGenModel\n",
    "from random import uniform"
   ]
  },
  {
   "cell_type": "markdown",
   "id": "07dd99eb",
   "metadata": {},
   "source": [
    "### function to create pasquet dataset:"
   ]
  },
  {
   "cell_type": "code",
   "execution_count": 4,
   "id": "e0cbbfe5",
   "metadata": {},
   "outputs": [],
   "source": [
    "def create_dataset(number_samples, name):\n",
    "    \n",
    "    \n",
    "    data = {\"spectrum\":[], \"concentration\":[]}  # create dictionary as dataframe template\n",
    "\n",
    "    #  create spectrums using DataGenModel\n",
    "    for t in range(0, number_samples):\n",
    "        conc = round(uniform(0.01, 200.001), 2)  # set random concentration between 0.01 and 200\n",
    "        model = DataGenModel()\n",
    "        sig = model.model_i60(float(str(conc) + \"e-6\"))  # generate spectrum\n",
    "\n",
    "        # save to template\n",
    "        data[\"spectrum\"].append(sig)\n",
    "        data[\"concentration\"].append(conc)\n",
    "    \n",
    "    df = pd.DataFrame(data)  # turn dictionary into dataframe\n",
    "    df.to_parquet(name)  # save dataframe to parquet file"
   ]
  },
  {
   "cell_type": "markdown",
   "id": "8ffb9968",
   "metadata": {},
   "source": [
    "### generate dataset with 100k samples:"
   ]
  },
  {
   "cell_type": "code",
   "execution_count": null,
   "id": "c7c28c4d",
   "metadata": {},
   "outputs": [],
   "source": [
    "create_dataset(100000, \"spectrum_data_100k.parquet\")"
   ]
  }
 ],
 "metadata": {
  "kernelspec": {
   "display_name": "Python 3 (ipykernel)",
   "language": "python",
   "name": "python3"
  },
  "language_info": {
   "codemirror_mode": {
    "name": "ipython",
    "version": 3
   },
   "file_extension": ".py",
   "mimetype": "text/x-python",
   "name": "python",
   "nbconvert_exporter": "python",
   "pygments_lexer": "ipython3",
   "version": "3.9.7"
  }
 },
 "nbformat": 4,
 "nbformat_minor": 5
}
