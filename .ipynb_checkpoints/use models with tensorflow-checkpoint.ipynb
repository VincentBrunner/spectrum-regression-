{
 "cells": [
  {
   "cell_type": "markdown",
   "id": "22de0c0a",
   "metadata": {},
   "source": [
    "## a sample code how to use the saved h5 model with tensorflow:\n",
    "Steps:\n",
    "* load model\n",
    "* load sample data/generate it \n",
    "* normalise it in the same way the training data was normalised\n",
    "* use tensorflows .predict() method to make a prediction with the loaded model"
   ]
  },
  {
   "cell_type": "markdown",
   "id": "0e2635b7",
   "metadata": {},
   "source": [
    "packages used for model:"
   ]
  },
  {
   "cell_type": "code",
   "execution_count": 2,
   "id": "ce79a27d",
   "metadata": {},
   "outputs": [],
   "source": [
    "from tensorflow.keras.models import load_model\n",
    "import numpy as np"
   ]
  },
  {
   "cell_type": "markdown",
   "id": "e86a0ce8",
   "metadata": {},
   "source": [
    "packages used to normalize the input the same way like the training data was normalized:"
   ]
  },
  {
   "cell_type": "code",
   "execution_count": 3,
   "id": "7e8d17d7",
   "metadata": {},
   "outputs": [],
   "source": [
    "from scipy.signal import butter, lfilter"
   ]
  },
  {
   "cell_type": "markdown",
   "id": "92cdb971",
   "metadata": {},
   "source": [
    "normalisation functions:"
   ]
  },
  {
   "cell_type": "code",
   "execution_count": 6,
   "id": "f9d31aab",
   "metadata": {},
   "outputs": [],
   "source": [
    "def model_i60_getramp(rlen):\n",
    "    wlen = 1024  # signal points\n",
    "    start = 50  # start current pulse\n",
    "    stop = rlen + start  # stop current pulse\n",
    "    slp = 0.5  # ramp gradient/slope\n",
    "    amp = 1000  # region of counts\n",
    "\n",
    "    x = np.zeros(wlen)\n",
    "\n",
    "    i = 1\n",
    "    for n in range(start, stop):  # current ramp generation\n",
    "        x[n] = amp + i * slp\n",
    "        i = i + 1\n",
    "\n",
    "    return x\n",
    "\n",
    "def butter_lowpass(highcut, fs, order=5):\n",
    "    nyq = 0.5 * fs\n",
    "    high = highcut / nyq\n",
    "    b, a = butter(order, high, btype='low', analog=False)\n",
    "    return b, a\n",
    "\n",
    "def butter_lowpass_filter(data, highcut, fs, order=5, rl=0):\n",
    "    b, a = butter_lowpass(highcut, fs, order=order)\n",
    "    y = lfilter(b, a, data)\n",
    "    y = np.roll(y, rl)\n",
    "    return y\n",
    "\n",
    "def normalize(spectrum):\n",
    "    fs = 1e6\n",
    "    highcut = 3e4\n",
    "    xn = butter_lowpass_filter(spectrum, highcut, fs, order=3, rl=-10)\n",
    "    xmod = xn/model_i60_getramp(900)\n",
    "    return xmod"
   ]
  },
  {
   "cell_type": "markdown",
   "id": "a1c94ff7",
   "metadata": {},
   "source": [
    "load model:"
   ]
  },
  {
   "cell_type": "code",
   "execution_count": 7,
   "id": "2e24b494",
   "metadata": {},
   "outputs": [],
   "source": [
    "model = load_model(\"model_17.h5\", compile=False)"
   ]
  },
  {
   "cell_type": "markdown",
   "id": "03a42d6b",
   "metadata": {},
   "source": [
    "load + normalize data:"
   ]
  },
  {
   "cell_type": "code",
   "execution_count": 2,
   "id": "1c8ab7c6",
   "metadata": {},
   "outputs": [
    {
     "ename": "SyntaxError",
     "evalue": "invalid syntax (Temp/ipykernel_13576/408024133.py, line 1)",
     "output_type": "error",
     "traceback": [
      "\u001b[1;36m  File \u001b[1;32m\"C:\\Users\\#\\AppData\\Local\\Temp/ipykernel_13576/408024133.py\"\u001b[1;36m, line \u001b[1;32m1\u001b[0m\n\u001b[1;33m    data = #however you want to access the spectrum you want to find its concentration\u001b[0m\n\u001b[1;37m           ^\u001b[0m\n\u001b[1;31mSyntaxError\u001b[0m\u001b[1;31m:\u001b[0m invalid syntax\n"
     ]
    }
   ],
   "source": [
    "data = #however you want to access the spectrum you want to find its concentration\n",
    "normalized_data = normalize(data)"
   ]
  },
  {
   "cell_type": "markdown",
   "id": "b84b0924",
   "metadata": {},
   "source": [
    "make prediction:"
   ]
  },
  {
   "cell_type": "code",
   "execution_count": 1,
   "id": "a2ddd5ed",
   "metadata": {},
   "outputs": [
    {
     "ename": "NameError",
     "evalue": "name 'model' is not defined",
     "output_type": "error",
     "traceback": [
      "\u001b[1;31m---------------------------------------------------------------------------\u001b[0m",
      "\u001b[1;31mNameError\u001b[0m                                 Traceback (most recent call last)",
      "\u001b[1;32m~\\AppData\\Local\\Temp/ipykernel_13576/4020308310.py\u001b[0m in \u001b[0;36m<module>\u001b[1;34m\u001b[0m\n\u001b[1;32m----> 1\u001b[1;33m \u001b[0mprediction\u001b[0m \u001b[1;33m=\u001b[0m \u001b[0mmodel\u001b[0m\u001b[1;33m.\u001b[0m\u001b[0mpredict\u001b[0m\u001b[1;33m(\u001b[0m\u001b[0mnormalized_data\u001b[0m\u001b[1;33m)\u001b[0m\u001b[1;33m[\u001b[0m\u001b[1;36m0\u001b[0m\u001b[1;33m]\u001b[0m\u001b[1;33m[\u001b[0m\u001b[1;36m0\u001b[0m\u001b[1;33m]\u001b[0m \u001b[1;31m#--> slicing due to nested list output\u001b[0m\u001b[1;33m\u001b[0m\u001b[1;33m\u001b[0m\u001b[0m\n\u001b[0m\u001b[0;32m      2\u001b[0m \u001b[0mprint\u001b[0m\u001b[1;33m(\u001b[0m\u001b[0mprediction\u001b[0m\u001b[1;33m)\u001b[0m\u001b[1;33m\u001b[0m\u001b[1;33m\u001b[0m\u001b[0m\n",
      "\u001b[1;31mNameError\u001b[0m: name 'model' is not defined"
     ]
    }
   ],
   "source": [
    "prediction = model.predict(normalized_data)[0][0] #--> slicing due to nested list output\n",
    "print(prediction)"
   ]
  },
  {
   "cell_type": "markdown",
   "id": "efef16a5",
   "metadata": {},
   "source": [
    "this is not neccecary the fasted way nor the best way to put the model into production but to test its out its great"
   ]
  },
  {
   "cell_type": "code",
   "execution_count": null,
   "id": "01e90ba9",
   "metadata": {},
   "outputs": [],
   "source": []
  }
 ],
 "metadata": {
  "kernelspec": {
   "display_name": "Python 3 (ipykernel)",
   "language": "python",
   "name": "python3"
  },
  "language_info": {
   "codemirror_mode": {
    "name": "ipython",
    "version": 3
   },
   "file_extension": ".py",
   "mimetype": "text/x-python",
   "name": "python",
   "nbconvert_exporter": "python",
   "pygments_lexer": "ipython3",
   "version": "3.9.7"
  }
 },
 "nbformat": 4,
 "nbformat_minor": 5
}
